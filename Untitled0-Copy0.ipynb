{
 "metadata": {
  "name": "Untitled0-Copy0"
 },
 "nbformat": 3,
 "nbformat_minor": 0,
 "worksheets": [
  {
   "cells": [
    {
     "cell_type": "code",
     "collapsed": false,
     "input": "from greenlet import greenlet\n\ndef test1():\n    print 12\n    gr2.switch()\n    print 34\n    \ndef test2():\n    print 56\n    gr1.switch()\n    print 78\n\ngr1 = greenlet(test1)\ngr2 = greenlet(test2)\nprint \"start\"\ngr1.switch()\nprint \"stop\"",
     "language": "python",
     "metadata": {},
     "outputs": [
      {
       "output_type": "stream",
       "stream": "stdout",
       "text": "start\n12\n56\n34\nstop\n"
      }
     ],
     "prompt_number": 5
    },
    {
     "cell_type": "code",
     "collapsed": false,
     "input": "from greenlet import greenlet\n\ndef test1(x, y):\n    print x\n    for letter in x:\n        for l in letter:\n            gr2 = greenlet(test2)\n            gr2.switch(l)\n\ndef test2(u):\n    print u\n    gr1.switch()\n\ngr1 = greenlet(test1)\n\ngr1.switch(\"hello\", \" world\")",
     "language": "python",
     "metadata": {},
     "outputs": [
      {
       "output_type": "stream",
       "stream": "stdout",
       "text": "hello\nh\ne\nl\nl\no\n"
      }
     ],
     "prompt_number": 15
    },
    {
     "cell_type": "code",
     "collapsed": false,
     "input": "",
     "language": "python",
     "metadata": {},
     "outputs": []
    }
   ],
   "metadata": {}
  }
 ]
}